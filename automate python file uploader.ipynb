{
 "cells": [
  {
   "cell_type": "markdown",
   "metadata": {},
   "source": [
    "# Automatic Python Uploader\n",
    "### It uploads the data files from local computer to the Amazon AWS S3 bucket using the user credentials\n",
    "- First step is to import boto3\n",
    "- And then import os\n",
    "- store aws_access_key_id and aws_secret_access_key (user's credentials from aws) in session\n",
    "- Create s3 object using boto3 resource\n",
    "- Give local file location in file_path and s3 bucket name as a argunment in Bucket()\n",
    "- Here if condition look for .csv file. You can change it to any file extension you want to upload files."
   ]
  },
  {
   "cell_type": "code",
   "execution_count": 2,
   "metadata": {},
   "outputs": [],
   "source": [
    "import boto3\n",
    "import os\n",
    "#Creating Session With Boto3.\n",
    "session = boto3.Session(\n",
    "aws_access_key_id='<your_aws_key>',\n",
    "aws_secret_access_key='<your_aws_access_key>'\n",
    ")\n",
    "#Creating S3 Resource From the Session.\n",
    "s3 = session.resource('s3')\n",
    "for file in os.listdir(\"/Users/bishal/Downloads/Snowflake-tutorial-main\"):\n",
    "    if '.csv' in file:\n",
    "        file_path = '/Users/bishal/Downloads/Snowflake-tutorial-main/' + file\n",
    "        s3.Bucket('bishaltestagain-bucket').upload_file(file_path,file)\n"
   ]
  }
 ],
 "metadata": {
  "kernelspec": {
   "display_name": "Python 3",
   "language": "python",
   "name": "python3"
  },
  "language_info": {
   "codemirror_mode": {
    "name": "ipython",
    "version": 3
   },
   "file_extension": ".py",
   "mimetype": "text/x-python",
   "name": "python",
   "nbconvert_exporter": "python",
   "pygments_lexer": "ipython3",
   "version": "3.8.5"
  }
 },
 "nbformat": 4,
 "nbformat_minor": 4
}
